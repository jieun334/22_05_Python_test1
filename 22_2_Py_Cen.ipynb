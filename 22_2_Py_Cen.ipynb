{
  "nbformat": 4,
  "nbformat_minor": 0,
  "metadata": {
    "colab": {
      "provenance": [],
      "authorship_tag": "ABX9TyMy1dxhqxufE8Z+mp4/MlaL",
      "include_colab_link": true
    },
    "kernelspec": {
      "name": "python3",
      "display_name": "Python 3"
    },
    "language_info": {
      "name": "python"
    }
  },
  "cells": [
    {
      "cell_type": "markdown",
      "metadata": {
        "id": "view-in-github",
        "colab_type": "text"
      },
      "source": [
        "<a href=\"https://colab.research.google.com/github/jieun334/22_05_Python_test1/blob/main/22_2_Py_Cen.ipynb\" target=\"_parent\"><img src=\"https://colab.research.google.com/assets/colab-badge.svg\" alt=\"Open In Colab\"/></a>"
      ]
    },
    {
      "cell_type": "code",
      "execution_count": null,
      "metadata": {
        "id": "VUXHw5qZTkX1"
      },
      "outputs": [],
      "source": []
    },
    {
      "cell_type": "markdown",
      "source": [
        "19. 다음 보기의 사칙연산을 완성하시오. 한줄에 모두,여러줄로 나누어서, 보기좋게 정리."
      ],
      "metadata": {
        "id": "PlM0hqMsTk2o"
      }
    },
    {
      "cell_type": "code",
      "source": [
        "print(1+2);\n",
        "print(2-3);\n",
        "print(3*4);\n",
        "print(4/4);"
      ],
      "metadata": {
        "colab": {
          "base_uri": "https://localhost:8080/"
        },
        "id": "B6F-U3aVT7HY",
        "outputId": "50126d23-c0a5-42e0-a2b0-3d9d45b5489f"
      },
      "execution_count": 4,
      "outputs": [
        {
          "output_type": "stream",
          "name": "stdout",
          "text": [
            "3\n",
            "-1\n",
            "12\n",
            "1.0\n"
          ]
        }
      ]
    },
    {
      "cell_type": "markdown",
      "source": [
        "20. 아래의 출력화면을 간결하고 보기좋게 코딩하시오."
      ],
      "metadata": {
        "id": "lXZGruHkUsAY"
      }
    },
    {
      "cell_type": "code",
      "source": [
        "print(\"*\" * 40);\n",
        "print(\"* 제 1조 1항 대한민국은 민주공화국이다. *\");\n",
        "print(\"*\" * 40);"
      ],
      "metadata": {
        "colab": {
          "base_uri": "https://localhost:8080/"
        },
        "id": "NM1mgLSWUxH5",
        "outputId": "844edaaa-94c6-4dc1-cc81-c94c6970e6c5"
      },
      "execution_count": 6,
      "outputs": [
        {
          "output_type": "stream",
          "name": "stdout",
          "text": [
            "****************************************\n",
            "* 제 1조 1항 대한민국은 민주공화국이다. *\n",
            "****************************************\n"
          ]
        }
      ]
    },
    {
      "cell_type": "markdown",
      "source": [
        "21. 사용자에게 성명, 나이, 주소를 입력받아서 출력하라."
      ],
      "metadata": {
        "id": "Ak6s8Bf1WG66"
      }
    },
    {
      "cell_type": "code",
      "source": [
        "name = input(\"이름을 입력하시오.\")\n",
        "age = input(\"나이를 입력하시오.\")\n",
        "address = input(\"주소를 입력하시오.\")\n",
        "print(name)\n",
        "print(age)\n",
        "print(address)\n",
        "print(name, age, address)"
      ],
      "metadata": {
        "colab": {
          "base_uri": "https://localhost:8080/"
        },
        "id": "xPMpJaPCWKr8",
        "outputId": "853a9f88-94d4-4752-894d-1ea49f9169b9"
      },
      "execution_count": 7,
      "outputs": [
        {
          "name": "stdout",
          "output_type": "stream",
          "text": [
            "이름을 입력하시오.정지은\n",
            "나이를 입력하시오.20\n",
            "주소를 입력하시오.정읍\n"
          ]
        }
      ]
    },
    {
      "cell_type": "markdown",
      "source": [
        "29. 아래의 보기와 같이 두 가지 방법을 코딩하시오."
      ],
      "metadata": {
        "id": "qcE9uLlXZu9C"
      }
    },
    {
      "cell_type": "code",
      "source": [
        "n1 = input(\"첫 번째 정수를 입력하시오.\")\n",
        "n2 = input(\"두 번째 정수를 입력하시오.\")\n",
        "print(\"두 합의 값은\", n1+n2, \"입니다.\")"
      ],
      "metadata": {
        "colab": {
          "base_uri": "https://localhost:8080/"
        },
        "id": "dKKf2LfpZz4t",
        "outputId": "91185024-61a0-4b15-b85d-5165330cb371"
      },
      "execution_count": 12,
      "outputs": [
        {
          "output_type": "stream",
          "name": "stdout",
          "text": [
            "첫 번째 정수를 입력하시오.100\n",
            "두 번째 정수를 입력하시오.100\n",
            "두 합의 값은 100100 입니다.\n"
          ]
        }
      ]
    },
    {
      "cell_type": "code",
      "source": [
        "n1 = int(input(\"첫 번째 정수를 입력하시오.\"))\n",
        "n2 = int(input(\"두 번째 정수를 입력하시오.\"))\n",
        "print(\"두 합의 값은\", n1+n2, \"입니다.\")"
      ],
      "metadata": {
        "colab": {
          "base_uri": "https://localhost:8080/"
        },
        "id": "M-MWRuzva2mN",
        "outputId": "47bc4d3d-21dc-4534-b525-e0de4bbb1dff"
      },
      "execution_count": 13,
      "outputs": [
        {
          "output_type": "stream",
          "name": "stdout",
          "text": [
            "첫 번째 정수를 입력하시오.100\n",
            "두 번째 정수를 입력하시오.100\n",
            "두 합의 값은 200 입니다.\n"
          ]
        }
      ]
    }
  ]
}